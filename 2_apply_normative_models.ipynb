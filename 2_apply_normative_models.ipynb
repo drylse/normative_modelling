{
 "cells": [
  {
   "cell_type": "markdown",
   "id": "2d8fb4c8-4360-4fdc-b0a2-e1c2e22bd8f9",
   "metadata": {
    "id": "2d8fb4c8-4360-4fdc-b0a2-e1c2e22bd8f9"
   },
   "source": [
    "## Using lifespan models to make predictions on new data\n",
    "\n",
    "This notebook shows how to apply the coefficients from [pre-estimated normative models](https://www.biorxiv.org/content/10.1101/2021.08.08.455487v2) to new data. This can be done in two different ways: (i) using a new set of data derived from the same sites used to estimate the model and (ii) on a completely different set of sites. In the latter case, we also need to estimate the site effect, which requires some calibration/adaptation data. As an illustrative example, we use a dataset derived from the [1000 functional connectomes project](https://www.nitrc.org/forum/forum.php?thread_id=2907&forum_id=1383) and adapt the learned model to make predictions on these data. \n",
    "\n",
    "First, if necessary, we install PCNtoolkit (note: this tutorial requires at least version 0.20)"
   ]
  },
  {
   "cell_type": "markdown",
   "id": "b2227bc7-e798-470a-99bc-33561ce4511b",
   "metadata": {
    "id": "b2227bc7-e798-470a-99bc-33561ce4511b"
   },
   "source": [
    "Import the required libraries"
   ]
  },
  {
   "cell_type": "code",
   "execution_count": null,
   "id": "ff661cf2-7d80-46bb-bcfb-1650a93eed3d",
   "metadata": {
    "id": "ff661cf2-7d80-46bb-bcfb-1650a93eed3d"
   },
   "outputs": [],
   "source": [
    "import numpy as np\n",
    "import pandas as pd\n",
    "import pickle\n",
    "from matplotlib import pyplot as plt\n",
    "import seaborn as sns\n",
    "\n",
    "from pcntoolkit.normative import estimate, predict, evaluate\n",
    "from pcntoolkit.util.utils import compute_MSLL, create_design_matrix\n",
    "from nm_utils import remove_bad_subjects, load_2d"
   ]
  },
  {
   "cell_type": "markdown",
   "id": "802b1da6-04cc-4310-af81-f50d38c3e653",
   "metadata": {
    "id": "802b1da6-04cc-4310-af81-f50d38c3e653"
   },
   "source": [
    "Next, we configure some basic variables, like where we want the analysis to be done and which model we want to use.\n",
    "\n",
    "**Note:** We maintain a list of site ids for each dataset, which describe the site names in the training and test data (`site_ids_tr` and `site_ids_te`), plus also the adaptation data . The training site ids are provided as a text file in the distribution and the test ids are extracted automatically from the pandas dataframe (see below). If you use additional data from the sites (e.g. later waves from ABCD), it may be necessary to adjust the site names to match the names in the training set. See the accompanying [paper](https://www.biorxiv.org/content/10.1101/2021.08.08.455487v2) for more details."
   ]
  },
  {
   "cell_type": "code",
   "execution_count": null,
   "id": "26b35c64-41fd-4ecd-bf6e-3e7b34a67279",
   "metadata": {
    "id": "26b35c64-41fd-4ecd-bf6e-3e7b34a67279"
   },
   "outputs": [],
   "source": [
    "site_names = ['S11025', 'S11026', 'S11027']\n",
    "\n",
    "# where the analysis takes place\n",
    "root_dir = '/Users/louisedry/Desktop/Normative_modelling/penetrance/YesNo/norm_mod_19oct21/CPC_ML_tutorial-master//results'\n",
    "\n",
    "# when testing for area\n",
    "out_dir = os.path.join(root_dir, 'area', 'dummy_sex')\n",
    "\n",
    "# when testing for volume\n",
    "#out_dir = os.path.join(root_dir, 'volume', 'dummy_sex')"
   ]
  },
  {
   "cell_type": "markdown",
   "id": "3aab54a5-2579-48d8-a81b-bbd34cea1213",
   "metadata": {
    "id": "3aab54a5-2579-48d8-a81b-bbd34cea1213"
   },
   "source": [
    "### Load test data\n",
    "\n",
    "Now we load the test data and remove some subjects that may have poor scan quality. This asssesment is based on the Freesurfer Euler characteristic as described in the papers below. \n",
    "\n",
    "**Note:** For the purposes of this tutorial, we make predictions for all sites in the FCON 1000 dataset, but two of them were also included in the training data (named 'Baltimore' and 'NewYork_a'). In this case, this will only slightly bias the accuracy, but in order to replicate the results in the paper, it would be necessary to additionally remove these sites from the test dataframe.\n",
    "\n",
    "**References**\n",
    "- [Kia et al 2021](https://www.biorxiv.org/content/10.1101/2021.05.28.446120v1.abstract)\n",
    "- [Rosen et al 2018](https://www.sciencedirect.com/science/article/abs/pii/S1053811917310832?via%3Dihub)"
   ]
  },
  {
   "cell_type": "code",
   "execution_count": null,
   "id": "262d429a-160b-4ba3-9ba4-9acc195bc644",
   "metadata": {
    "colab": {
     "base_uri": "https://localhost:8080/"
    },
    "id": "262d429a-160b-4ba3-9ba4-9acc195bc644",
    "outputId": "e38c0a03-3f44-463b-e385-ec01eafb660a"
   },
   "outputs": [],
   "source": [
    "# running for control group/area\n",
    "test_data = os.path.join('/Users/louisedry/Desktop/Normative_modelling/penetrance/YesNo/norm_mod_19oct21/CPC_ML_tutorial-master/area_inputs', 'test_data.csv')\n",
    "carriers_data = os.path.join('/Users/louisedry/Desktop/Normative_modelling/penetrance/YesNo/norm_mod_19oct21/CPC_ML_tutorial-master/area_inputs', 'carriers_data.csv')\n",
    "\n",
    "# running for control group/volume\n",
    "#test_data = os.path.join('/Users/louisedry/Desktop/Normative_modelling/penetrance/YesNo/norm_mod_19oct21/CPC_ML_tutorial-master/volume_inputs', 'test_data.csv')\n",
    "#carriers_data = os.path.join('/Users/louisedry/Desktop/Normative_modelling/penetrance/YesNo/norm_mod_19oct21/CPC_ML_tutorial-master/volume_inputs', 'carriers_data.csv')\n",
    "\n",
    "df_te = pd.read_csv(test_data, index_col=0)\n",
    "df_ca = pd.read_csv(carriers_data, index_col=0)\n",
    "\n",
    "# remove some bad subjects\n",
    "df_te, bad_sub_te = remove_bad_subjects(df_te, df_te)\n",
    "df_ca, bad_sub_ca = remove_bad_subjects(df_ca, df_ca)\n",
    "\n",
    "# extract a list of unique site ids from the test set\n",
    "site_ids_te =  sorted(set(df_te['site'].to_list()))\n",
    "site_ids_tr = site_ids_te"
   ]
  },
  {
   "cell_type": "markdown",
   "id": "bf88aa2b",
   "metadata": {},
   "source": [
    "df_te contains our test set which is made of 1658 indivudals who don't carry the variants we're looking at. They are matched for age, sex and site with the carriers group.\n",
    "df_ca is our carriers group: all the individuals carrying a variant."
   ]
  },
  {
   "cell_type": "code",
   "execution_count": null,
   "id": "7c0d38a6",
   "metadata": {},
   "outputs": [],
   "source": [
    "# just checking\n",
    "site_ids_tr"
   ]
  },
  {
   "cell_type": "code",
   "execution_count": null,
   "id": "53551023-aff6-4934-ad2d-d77bc63c562d",
   "metadata": {
    "colab": {
     "base_uri": "https://localhost:8080/"
    },
    "id": "53551023-aff6-4934-ad2d-d77bc63c562d",
    "outputId": "b59cc4e3-3646-47b7-eff8-0abb60dce75e"
   },
   "outputs": [],
   "source": [
    "df_te = pd.get_dummies(df_te, columns=['sex'])\n",
    "df_ca = pd.get_dummies(df_ca, columns=['sex'])"
   ]
  },
  {
   "cell_type": "code",
   "execution_count": null,
   "id": "05542061",
   "metadata": {},
   "outputs": [],
   "source": [
    "df_te"
   ]
  },
  {
   "cell_type": "markdown",
   "id": "4f73e30e-c693-44b8-98c6-52b71b577ea8",
   "metadata": {
    "id": "4f73e30e-c693-44b8-98c6-52b71b577ea8"
   },
   "source": [
    "### Configure which models to fit\n",
    "\n",
    "Now, we configure which imaging derived phenotypes (IDPs) we would like to process. This is just a list of column names in the dataframe we have loaded above. \n",
    "\n",
    "We could load the whole set i.e., all phenotypes for which we have models for (188 brain regions)."
   ]
  },
  {
   "cell_type": "code",
   "execution_count": null,
   "id": "8b74d75f-77a5-474a-9c9b-29aab1ce53a2",
   "metadata": {
    "id": "8b74d75f-77a5-474a-9c9b-29aab1ce53a2"
   },
   "outputs": [],
   "source": [
    "idp_ids = list(df_te.loc[:,df_te.columns.str.endswith('_area_z_scored')].columns)\n",
    "#idp_ids = list(df_te.loc[:,df_te.columns.str.endswith('_volume_z_scored')].columns)\n"
   ]
  },
  {
   "cell_type": "code",
   "execution_count": null,
   "id": "000e87da",
   "metadata": {},
   "outputs": [],
   "source": [
    "print(idp_ids)"
   ]
  },
  {
   "cell_type": "markdown",
   "id": "56ee1f7f-8684-4f1c-b142-a68176407029",
   "metadata": {
    "id": "56ee1f7f-8684-4f1c-b142-a68176407029"
   },
   "source": [
    "### Configure covariates \n",
    "\n",
    "Now, we configure some parameters to fit the model. First, we choose which columns of the pandas dataframe contain the covariates (age and sex). The site parameters are configured automatically later on by the `configure_design_matrix()` function, when we loop through the IDPs in the list\n",
    "\n",
    "The supplied coefficients are derived from a 'warped' Bayesian linear regression model, which uses a nonlinear warping function to model non-Gaussianity (`sinarcsinh`) plus a non-linear basis expansion (a cubic b-spline basis set with 5 knot points, which is the default value in the PCNtoolkit package). Since we are sticking with the default value, we do not need to specify any parameters for this, but we do need to specify the limits. We choose to pad the input by a few years either side of the input range. We will also set a couple of options that control the estimation of the model\n",
    "\n",
    "For further details about the likelihood warping approach, see the accompanying paper and [Fraza et al 2021](https://www.biorxiv.org/content/10.1101/2021.04.05.438429v1)."
   ]
  },
  {
   "cell_type": "code",
   "execution_count": null,
   "id": "62312b8e-4972-4238-abf9-87d9bb33cc10",
   "metadata": {
    "id": "62312b8e-4972-4238-abf9-87d9bb33cc10"
   },
   "outputs": [],
   "source": [
    "# which data columns do we wish to use as covariates? \n",
    "#cols_cov = ['age', 'sex_0', 'sex_1', 'total_volume']\n",
    "cols_cov = ['age', 'sex_0', 'sex_1', 'total_area']\n",
    "\n",
    "# limits for cubic B-spline basis \n",
    "xmin = 45 \n",
    "xmax = 80\n",
    "\n",
    "# Absolute Z treshold above which a sample is considered to be an outlier (without fitting any model)\n",
    "outlier_thresh = 7"
   ]
  },
  {
   "cell_type": "markdown",
   "id": "42bc1072-e9ed-4f2a-9fdd-cbd626a61542",
   "metadata": {
    "id": "42bc1072-e9ed-4f2a-9fdd-cbd626a61542"
   },
   "source": [
    "### Make predictions\n",
    "\n",
    "This will make predictions for each IDP separately. This is done by extracting a column from the dataframe (i.e. specifying the IDP as the response variable) and saving it as a numpy array. Then, we configure the covariates, which is a numpy data array having the number of rows equal to the number of datapoints in the test set. The columns are specified as follows: \n",
    "\n",
    "- A global intercept (column of ones)\n",
    "- The covariate columns (here age and sex, coded as 0=female/1=male)\n",
    "- Dummy coded columns for the sites in the training set (one column per site)\n",
    "- Columns for the basis expansion (seven columns for the default parameterisation)\n",
    "\n",
    "Once these are saved as numpy arrays in ascii format (as here) or (alternatively) in pickle format, these are passed as inputs to the `predict()` method in the PCNtoolkit normative modelling framework. These are written in the same format to the location specified by `idp_dir`. At the end of this step, we have a set of predictions and Z-statistics for the test dataset that we can take forward to further analysis.\n",
    "\n",
    "Note that when we need to make predictions on new data, the procedure is more involved, since we need to prepare, process and store covariates, response variables and site ids for the adaptation data. "
   ]
  },
  {
   "cell_type": "code",
   "execution_count": null,
   "id": "07b7471b-c334-464f-8273-b409b7acaac2",
   "metadata": {
    "colab": {
     "base_uri": "https://localhost:8080/"
    },
    "id": "07b7471b-c334-464f-8273-b409b7acaac2",
    "outputId": "b5345b37-8335-47c6-c962-47d17a41c384"
   },
   "outputs": [],
   "source": [
    "for idp_num, idp in enumerate(idp_ids): \n",
    "    print('Running IDP', idp_num, idp, ':')\n",
    "    idp_dir = os.path.join(out_dir, idp)\n",
    "    os.chdir(idp_dir)\n",
    "    \n",
    "    # extract and save the response variables for the test set\n",
    "    y_te = df_te[idp].to_numpy()\n",
    "    \n",
    "    # save the variables\n",
    "    resp_file_te = os.path.join(idp_dir, 'resp_te.txt') \n",
    "    np.savetxt(resp_file_te, y_te)\n",
    "        \n",
    "    # configure and save the design matrix\n",
    "    cov_file_te = os.path.join(idp_dir, 'cov_bspline_te.txt')\n",
    "    X_te = create_design_matrix(df_te[cols_cov], \n",
    "                                site_ids = df_te['site'],\n",
    "                                all_sites = site_ids_tr,\n",
    "                                basis = 'bspline', \n",
    "                                xmin = xmin, \n",
    "                                xmax = xmax)\n",
    "    np.savetxt(cov_file_te, X_te)\n",
    "    \n",
    "    # check whether all sites in the test set are represented in the training set\n",
    "        \n",
    "    # just make predictions\n",
    "    yhat_te, s2_te, Z = predict(cov_file_te, \n",
    "                                alg='blr', \n",
    "                                respfile=resp_file_te, \n",
    "                                model_path=os.path.join(idp_dir,'Models'))\n",
    "\n"
   ]
  },
  {
   "cell_type": "code",
   "execution_count": null,
   "id": "bf1b40d5",
   "metadata": {},
   "outputs": [],
   "source": [
    "for idp_num, idp in enumerate(idp_ids): \n",
    "    print('Running IDP', idp_num, idp, ':')\n",
    "    idp_dir = os.path.join(out_dir, idp)\n",
    "    os.chdir(idp_dir)\n",
    "    \n",
    "    # extract and save the response variables for the test set\n",
    "    y_ca = df_ca[idp].to_numpy()\n",
    "    \n",
    "    # save the variables\n",
    "    resp_file_ca = os.path.join(idp_dir, 'resp_ca.txt') \n",
    "    np.savetxt(resp_file_ca, y_ca)\n",
    "        \n",
    "    # configure and save the design matrix\n",
    "    cov_file_ca = os.path.join(idp_dir, 'cov_bspline_ca.txt')\n",
    "    X_ca = create_design_matrix(df_ca[cols_cov], \n",
    "                                site_ids = df_ca['site'],\n",
    "                                all_sites = site_ids_tr,\n",
    "                                basis = 'bspline', \n",
    "                                xmin = xmin, \n",
    "                                xmax = xmax)\n",
    "    np.savetxt(cov_file_ca, X_ca)\n",
    "    \n",
    "    # check whether all sites in the test set are represented in the training set\n",
    "        \n",
    "    # just make predictions\n",
    "    yhat_ca, s2_ca, Z = predict(cov_file_ca, \n",
    "                                alg='blr', \n",
    "                                respfile=resp_file_ca, \n",
    "                                model_path=os.path.join(idp_dir,'Models'),\n",
    "                               outputsuffix='_carriers')\n"
   ]
  },
  {
   "cell_type": "markdown",
   "id": "75210821-ccb8-4bd2-82f3-641708811b21",
   "metadata": {
    "id": "75210821-ccb8-4bd2-82f3-641708811b21"
   },
   "source": [
    "### Preparing dummy data for plotting\n",
    "\n",
    "Now, we plot the centiles of variation estimated by the normative model. \n",
    "\n",
    "We do this by making use of a set of dummy covariates that span the whole range of the input space (for age) for a fixed value of the other covariates (e.g. sex) so that we can make predictions for these dummy data points, then plot them. We configure these dummy predictions using the same procedure as we used for the real data. We can use the same dummy data for all the IDPs we wish to plot"
   ]
  },
  {
   "cell_type": "code",
   "execution_count": null,
   "id": "63435021",
   "metadata": {
    "colab": {
     "base_uri": "https://localhost:8080/"
    },
    "id": "2d0743d8-28ca-4a14-8ef0-99bf40434b5b",
    "outputId": "7d4c8f2e-ca79-46e1-e5a8-0733503fde94"
   },
   "outputs": [],
   "source": [
    "# which sex do we want to plot? \n",
    "sex = 1 # 1 = male 0 = female\n",
    "if sex == 1: \n",
    "    clr = 'blue';\n",
    "else:\n",
    "    clr = 'm'\n",
    "\n",
    "# create dummy data for visualisation\n",
    "print('configuring dummy data ...')\n",
    "xx = np.arange(xmin, xmax, 0.5)\n",
    "total = np.linspace(min(df_te['total_area']), max(df_te['total_area']), 72)\n",
    "#total = np.linspace(min(df_te['total_volume']), max(df_te['total_volume']), 72)\n",
    "X0_dummy = np.zeros((len(xx), 4))\n",
    "X0_dummy[:,0] = xx\n",
    "X0_dummy[:,2] = sex\n",
    "#X0_dummy[:,1] = sex-1\n",
    "X0_dummy[:,1] = sex+1\n",
    "X0_dummy[:,3] = total"
   ]
  },
  {
   "cell_type": "code",
   "execution_count": null,
   "id": "2d0743d8-28ca-4a14-8ef0-99bf40434b5b",
   "metadata": {
    "colab": {
     "base_uri": "https://localhost:8080/"
    },
    "id": "2d0743d8-28ca-4a14-8ef0-99bf40434b5b",
    "outputId": "7d4c8f2e-ca79-46e1-e5a8-0733503fde94"
   },
   "outputs": [],
   "source": [
    "# create the design matrix\n",
    "X_dummy = create_design_matrix(X0_dummy, xmin=xmin, xmax=xmax, site_ids=None, all_sites=site_ids_tr)\n",
    "\n",
    "# save the dummy covariates\n",
    "cov_file_dummy = os.path.join(out_dir,'cov_bspline_dummy_mean.txt')\n",
    "np.savetxt(cov_file_dummy, X_dummy)"
   ]
  },
  {
   "cell_type": "markdown",
   "id": "126323a3-2270-4796-97c4-94629730ddf7",
   "metadata": {
    "id": "126323a3-2270-4796-97c4-94629730ddf7"
   },
   "source": [
    "### Plotting the normative models\n",
    "\n",
    "Now we loop through the IDPs, plotting each one separately. The outputs of this step are a set of quantitative regression metrics for each IDP and a set of centile curves which we plot the test data against. \n",
    "\n",
    "This part of the code is relatively complex because we need to keep track of many quantities for the plotting. We also need to remember whether the data need to be warped or not. By default in PCNtoolkit, predictions in the form of `yhat, s2` are always in the warped (Gaussian) space. If we want predictions in the input (non-Gaussian) space, then we need to warp them with the inverse of the estimated warping function. This can be done using the function `nm.blr.warp.warp_predictions()`. \n",
    "\n",
    "**Note:** it is necessary to update the intercept for each of the sites. For purposes of visualisation, here we do this by adjusting the median of the data to match the dummy predictions, but note that all the quantitative metrics are estimated using the predictions that are adjusted properly using a learned offset (or adjusted using a hold-out adaptation set, as above). Note also that for the calibration data we require at least two data points of the same sex in each site to be able to estimate the variance. Of course, in a real example, you would want many more than just two since we need to get a reliable estimate of the variance for each site. "
   ]
  },
  {
   "cell_type": "code",
   "execution_count": null,
   "id": "cdd68cc6-212b-4149-b86a-24e842078e1a",
   "metadata": {
    "id": "cdd68cc6-212b-4149-b86a-24e842078e1a"
   },
   "outputs": [],
   "source": [
    "sns.set(style='whitegrid')\n",
    "\n",
    "for idp_num, idp in enumerate(idp_ids): \n",
    "    print('Running IDP', idp_num, idp, ':')\n",
    "    idp_dir = os.path.join(out_dir, idp)\n",
    "    os.chdir(idp_dir)\n",
    "    \n",
    "    # load the true data points\n",
    "    yhat_te = load_2d(os.path.join(idp_dir, 'yhat_predict.txt'))\n",
    "    s2_te = load_2d(os.path.join(idp_dir, 'ys2_predict.txt'))\n",
    "    y_te = load_2d(os.path.join(idp_dir, 'resp_te.txt'))\n",
    "    \n",
    "    # load the carriers data points \n",
    "    yhat_ca = load_2d(os.path.join(idp_dir, 'yhat_carriers.txt'))\n",
    "    s2_ca = load_2d(os.path.join(idp_dir, 'ys2_carriers.txt'))\n",
    "    y_ca = load_2d(os.path.join(idp_dir, 'resp_ca.txt'))\n",
    "            \n",
    "    # set up the covariates for the dummy data\n",
    "    print('Making predictions with dummy covariates (for visualisation)')\n",
    "    yhat, s2 = predict(cov_file_dummy, \n",
    "                       alg = 'blr', \n",
    "                       respfile = None, \n",
    "                       model_path = os.path.join(idp_dir,'Models'), \n",
    "                       outputsuffix = '_dummy')\n",
    "    \n",
    "    # load the normative model\n",
    "    with open(os.path.join(idp_dir,'Models', 'NM_0_0_estimate.pkl'), 'rb') as handle:\n",
    "        nm = pickle.load(handle) \n",
    "    \n",
    "    # get the warp and warp parameters\n",
    "    W = nm.blr.warp\n",
    "    warp_param = nm.blr.hyp[1:nm.blr.warp.get_n_params()+1] \n",
    "        \n",
    "    # first, we warp predictions for the true data and compute evaluation metrics\n",
    "    med_te = W.warp_predictions(np.squeeze(yhat_te), np.squeeze(s2_te), warp_param)[0]\n",
    "    med_te = med_te[:, np.newaxis]\n",
    "    print('metrics:', evaluate(y_te, med_te))\n",
    "    \n",
    "    med_ca = W.warp_predictions(np.squeeze(yhat_ca), np.squeeze(s2_ca), warp_param)[0]\n",
    "    med_ca = med_ca[:, np.newaxis]\n",
    "    print('metrics:', evaluate(y_ca, med_ca))\n",
    "    \n",
    "    # then, we warp dummy predictions to create the plots\n",
    "    med, pr_int = W.warp_predictions(np.squeeze(yhat), np.squeeze(s2), warp_param)\n",
    "    \n",
    "    # extract the different variance components to visualise\n",
    "    beta, junk1, junk2 = nm.blr._parse_hyps(nm.blr.hyp, X_dummy)\n",
    "    s2n = 1/beta # variation (aleatoric uncertainty)\n",
    "    s2s = s2-s2n # modelling uncertainty (epistemic uncertainty)\n",
    "    \n",
    "    # plot the data points\n",
    "    y_te_rescaled_all = np.zeros_like(y_te)\n",
    "    y_ca_rescaled_all = np.zeros_like(y_ca)\n",
    "    for sid, site in enumerate(site_ids_te):\n",
    "        # plot the true test data points \n",
    "        if all(elem in site_ids_tr for elem in site_ids_te):\n",
    "            # all data in the test set are present in the training set\n",
    "            \n",
    "            # first, we select the data points belonging to this particular site\n",
    "            idx_te = np.where(np.bitwise_and(X_te[:,3] == sex, X_te[:,sid+len(cols_cov)+1] !=0))[0]\n",
    "            idx_ca = np.where(np.bitwise_and(X_ca[:,3] == sex, X_ca[:,sid+len(cols_cov)+1] !=0))[0]\n",
    "            \n",
    "            # then directly adjust the data\n",
    "            idx_dummy_te = np.bitwise_and(X_dummy[:,1] > X_te[idx_te,1].min(), X_dummy[:,1] < X_te[idx_te,1].max())\n",
    "            y_te_rescaled = y_te[idx_te] - np.median(y_te[idx_te]) + np.median(med[idx_dummy_te])\n",
    "            \n",
    "            idx_dummy_ca = np.bitwise_and(X_dummy[:,1] > X_ca[idx_ca,1].min(), X_dummy[:,1] < X_ca[idx_ca,1].max())\n",
    "            y_ca_rescaled = y_ca[idx_ca] - np.median(y_ca[idx_ca]) + np.median(med[idx_dummy_ca])\n",
    "        else:\n",
    "            \n",
    "            # first, select the data point belonging to this particular site\n",
    "            idx = np.where(np.bitwise_and(X_te[:,2] == sex, (df_te['site'] == site).to_numpy()))[0]\n",
    "            \n",
    "            # load the adaptation data\n",
    "            y_ad = load_2d(os.path.join(idp_dir, 'resp_ad.txt'))\n",
    "            X_ad = load_2d(os.path.join(idp_dir, 'cov_bspline_ad.txt'))\n",
    "            idx_a = np.where(np.bitwise_and(X_ad[:,2] == sex, (df_ad['site'] == site).to_numpy()))[0]\n",
    "            if len(idx) < 2 or len(idx_a) < 2:\n",
    "                print('Insufficent data for site', sid, site, 'skipping...')\n",
    "                continue\n",
    "            \n",
    "            # adjust and rescale the data\n",
    "            y_te_rescaled, s2_rescaled = nm.blr.predict_and_adjust(nm.blr.hyp, \n",
    "                                                                   X_ad[idx_a,:], \n",
    "                                                                   np.squeeze(y_ad[idx_a]), \n",
    "                                                                   Xs=None, \n",
    "                                                                   ys=np.squeeze(y_te[idx]))\n",
    "        # plot the (adjusted) data points\n",
    "        plt.scatter(X_te[idx_te,1], y_te_rescaled, s=4, color=clr, alpha = 0.4)\n",
    "        plt.scatter(X_ca[idx_ca,1], y_ca_rescaled, s=4, color='red', alpha = 1)\n",
    "       \n",
    "    # plot the median of the dummy data\n",
    "    plt.plot(xx, med, clr)\n",
    "    \n",
    "    # fill the gaps in between the centiles\n",
    "    junk, pr_int25 = W.warp_predictions(np.squeeze(yhat), np.squeeze(s2), warp_param, percentiles=[0.25,0.75])\n",
    "    junk, pr_int95 = W.warp_predictions(np.squeeze(yhat), np.squeeze(s2), warp_param, percentiles=[0.05,0.95])\n",
    "    junk, pr_int99 = W.warp_predictions(np.squeeze(yhat), np.squeeze(s2), warp_param, percentiles=[0.01,0.99])\n",
    "    plt.fill_between(xx, pr_int25[:,0], pr_int25[:,1], alpha = 0.1,color=clr)\n",
    "    plt.fill_between(xx, pr_int95[:,0], pr_int95[:,1], alpha = 0.1,color=clr)\n",
    "    plt.fill_between(xx, pr_int99[:,0], pr_int99[:,1], alpha = 0.1,color=clr)\n",
    "            \n",
    "    # make the width of each centile proportional to the epistemic uncertainty\n",
    "    junk, pr_int25l = W.warp_predictions(np.squeeze(yhat), np.squeeze(s2-0.5*s2s), warp_param, percentiles=[0.25,0.75])\n",
    "    junk, pr_int95l = W.warp_predictions(np.squeeze(yhat), np.squeeze(s2-0.5*s2s), warp_param, percentiles=[0.05,0.95])\n",
    "    junk, pr_int99l = W.warp_predictions(np.squeeze(yhat), np.squeeze(s2-0.5*s2s), warp_param, percentiles=[0.01,0.99])\n",
    "    junk, pr_int25u = W.warp_predictions(np.squeeze(yhat), np.squeeze(s2+0.5*s2s), warp_param, percentiles=[0.25,0.75])\n",
    "    junk, pr_int95u = W.warp_predictions(np.squeeze(yhat), np.squeeze(s2+0.5*s2s), warp_param, percentiles=[0.05,0.95])\n",
    "    junk, pr_int99u = W.warp_predictions(np.squeeze(yhat), np.squeeze(s2+0.5*s2s), warp_param, percentiles=[0.01,0.99])    \n",
    "    plt.fill_between(xx, pr_int25l[:,0], pr_int25u[:,0], alpha = 0.3,color=clr)\n",
    "    plt.fill_between(xx, pr_int95l[:,0], pr_int95u[:,0], alpha = 0.3,color=clr)\n",
    "    plt.fill_between(xx, pr_int99l[:,0], pr_int99u[:,0], alpha = 0.3,color=clr)\n",
    "    plt.fill_between(xx, pr_int25l[:,1], pr_int25u[:,1], alpha = 0.3,color=clr)\n",
    "    plt.fill_between(xx, pr_int95l[:,1], pr_int95u[:,1], alpha = 0.3,color=clr)\n",
    "    plt.fill_between(xx, pr_int99l[:,1], pr_int99u[:,1], alpha = 0.3,color=clr)\n",
    "\n",
    "    # plot actual centile lines\n",
    "    plt.plot(xx, pr_int25[:,0],color=clr, linewidth=0.5)\n",
    "    plt.plot(xx, pr_int25[:,1],color=clr, linewidth=0.5)\n",
    "    plt.plot(xx, pr_int95[:,0],color=clr, linewidth=0.5)\n",
    "    plt.plot(xx, pr_int95[:,1],color=clr, linewidth=0.5)\n",
    "    plt.plot(xx, pr_int99[:,0],color=clr, linewidth=0.5)\n",
    "    plt.plot(xx, pr_int99[:,1],color=clr, linewidth=0.5)\n",
    "    \n",
    "    plt.xlabel('Age')\n",
    "    plt.ylabel(idp) \n",
    "    plt.title(idp)\n",
    "    plt.xlim((46,80))\n",
    "    plt.savefig(os.path.join(idp_dir, str(sex) + '_centiles_' + idp + '_adj'),  bbox_inches='tight')\n",
    "    plt.show()\n",
    "\n",
    "os.chdir(out_dir)"
   ]
  },
  {
   "cell_type": "code",
   "execution_count": null,
   "id": "52542304",
   "metadata": {},
   "outputs": [],
   "source": []
  },
  {
   "cell_type": "markdown",
   "id": "hZEs7Ej4-qGi",
   "metadata": {
    "id": "hZEs7Ej4-qGi"
   },
   "source": [
    "The deviation scores are output as a text file in separate folders. We want to summarize the deviation scores across all models estimates so we can organize them into a single file, and merge the deviation scores into the original data file. "
   ]
  },
  {
   "cell_type": "code",
   "execution_count": null,
   "id": "6c05402a",
   "metadata": {},
   "outputs": [],
   "source": []
  },
  {
   "cell_type": "code",
   "execution_count": null,
   "id": "cdd6160a",
   "metadata": {},
   "outputs": [],
   "source": [
    "# Volume controls\n",
    "os.chdir('/Users/louisedry/Desktop/Normative_modelling/penetrance/YesNo/norm_mod_19oct21/CPC_ML_tutorial-master/results/volume/dummy_sex')\n",
    "! for i in *; do if [[ -e ${i}/Z_predict.txt ]]; then cp ${i}/Z_predict.txt deviation_scores/control/${i}_Z_predict.txt; fi; done\n",
    "z_dir ='/Users/louisedry/Desktop/Normative_modelling/penetrance/YesNo/norm_mod_19oct21/CPC_ML_tutorial-master/results/volume/dummy_sex/deviation_scores/control'\n",
    "filelist = [name for name in os.listdir(z_dir)]\n",
    "filelist.remove('.DS_Store')\n",
    "os.chdir(z_dir)\n",
    "Z_df = pd.concat([pd.read_csv(item, names=[item[:-4]]) for item in filelist], axis=1)\n",
    "\n",
    "df_te.reset_index(inplace=True)\n",
    "Z_df['ID_MTL'] = df_te['ID_MTL']\n",
    "df_te_Z = pd.merge(df_te, Z_df, on='ID_MTL')\n",
    "\n",
    "os.chdir('/Users/louisedry/Desktop/Normative_modelling/penetrance/YesNo/norm_mod_19oct21/CPC_ML_tutorial-master/results/deviation_scores')\n",
    "df_te_Z.to_csv('Zscores_volume_control.csv', index=False)"
   ]
  },
  {
   "cell_type": "code",
   "execution_count": null,
   "id": "318b7521",
   "metadata": {},
   "outputs": [],
   "source": [
    "# Volume carriers\n",
    "os.chdir('/Users/louisedry/Desktop/Normative_modelling/penetrance/YesNo/norm_mod_19oct21/CPC_ML_tutorial-master/results/volume/dummy_sex')\n",
    "! for i in *; do if [[ -e ${i}/Z_carriers.txt ]]; then cp ${i}/Z_carriers.txt deviation_scores/carriers/${i}_Z_carriers.txt; fi; done\n",
    "z_dir ='/Users/louisedry/Desktop/Normative_modelling/penetrance/YesNo/norm_mod_19oct21/CPC_ML_tutorial-master/results/volume/dummy_sex/deviation_scores/carriers'\n",
    "filelist = [name for name in os.listdir(z_dir)]\n",
    "#filelist.remove('.DS_Store')\n",
    "os.chdir(z_dir)\n",
    "Z_df = pd.concat([pd.read_csv(item, names=[item[:-4]]) for item in filelist], axis=1)\n",
    "\n",
    "df_ca.reset_index(inplace=True)\n",
    "Z_df['ID_MTL'] = df_ca['ID_MTL']\n",
    "df_te_Z = pd.merge(df_ca, Z_df, on='ID_MTL')\n",
    "\n",
    "os.chdir('/Users/louisedry/Desktop/Normative_modelling/penetrance/YesNo/norm_mod_19oct21/CPC_ML_tutorial-master/results/deviation_scores')\n",
    "df_te_Z.to_csv('Zscores_volume_carriers.csv', index=False)"
   ]
  },
  {
   "cell_type": "code",
   "execution_count": null,
   "id": "9b4168ca",
   "metadata": {
    "id": "L-OauNfc5Jrx"
   },
   "outputs": [],
   "source": [
    "# Area controls\n",
    "os.chdir('/Users/louisedry/Desktop/Normative_modelling/penetrance/YesNo/norm_mod_19oct21/CPC_ML_tutorial-master/results/area/dummy_sex')\n",
    "! for i in *; do if [[ -e ${i}/Z_predict.txt ]]; then cp ${i}/Z_predict.txt deviation_scores/control/${i}_Z_predict.txt; fi; done\n",
    "z_dir ='/Users/louisedry/Desktop/Normative_modelling/penetrance/YesNo/norm_mod_19oct21/CPC_ML_tutorial-master/results/area/dummy_sex/deviation_scores/control'\n",
    "filelist = [name for name in os.listdir(z_dir)]\n",
    "#filelist.remove('.DS_Store')\n",
    "os.chdir(z_dir)\n",
    "Z_df_ar_ctrl = pd.concat([pd.read_csv(item, names=[item[:-4]]) for item in filelist], axis=1)\n",
    "\n",
    "#df_te.reset_index(inplace=True)\n",
    "Z_df_ar_ctrl['ID_MTL'] = df_te['ID_MTL']\n",
    "df_te_Z = pd.merge(df_te, Z_df_ar_ctrl, on='ID_MTL')\n",
    "\n",
    "os.chdir('/Users/louisedry/Desktop/Normative_modelling/penetrance/YesNo/norm_mod_19oct21/CPC_ML_tutorial-master/results/deviation_scores')\n",
    "df_te_Z.to_csv('Zscores_area_control.csv', index=False)"
   ]
  },
  {
   "cell_type": "code",
   "execution_count": null,
   "id": "L-OauNfc5Jrx",
   "metadata": {
    "id": "L-OauNfc5Jrx"
   },
   "outputs": [],
   "source": [
    "# Area carriers\n",
    "os.chdir('/Users/louisedry/Desktop/Normative_modelling/penetrance/YesNo/norm_mod_19oct21/CPC_ML_tutorial-master/results/area/dummy_sex')\n",
    "! for i in *; do if [[ -e ${i}/Z_carriers.txt ]]; then cp ${i}/Z_carriers.txt deviation_scores/carriers/${i}_Z_carriers.txt; fi; done\n",
    "z_dir ='/Users/louisedry/Desktop/Normative_modelling/penetrance/YesNo/norm_mod_19oct21/CPC_ML_tutorial-master/results/area/dummy_sex/deviation_scores/carriers'\n",
    "filelist = [name for name in os.listdir(z_dir)]\n",
    "#filelist.remove('.DS_Store')\n",
    "os.chdir(z_dir)\n",
    "Z_df_ar_var = pd.concat([pd.read_csv(item, names=[item[:-4]]) for item in filelist], axis=1)\n",
    "\n",
    "#df_ca.reset_index(inplace=True)\n",
    "Z_df_ar_var['ID_MTL'] = df_ca['ID_MTL']\n",
    "df_ca_Z = pd.merge(df_ca, Z_df_ar_var, on='ID_MTL')\n",
    "\n",
    "os.chdir('/Users/louisedry/Desktop/Normative_modelling/penetrance/YesNo/norm_mod_19oct21/CPC_ML_tutorial-master/results/deviation_scores')\n",
    "df_ca_Z.to_csv('Zscores_area_carriers.csv', index=False)"
   ]
  }
 ],
 "metadata": {
  "colab": {
   "name": "apply_normative_models.ipynb",
   "provenance": []
  },
  "kernelspec": {
   "display_name": "Python 3",
   "language": "python",
   "name": "python3"
  },
  "language_info": {
   "codemirror_mode": {
    "name": "ipython",
    "version": 3
   },
   "file_extension": ".py",
   "mimetype": "text/x-python",
   "name": "python",
   "nbconvert_exporter": "python",
   "pygments_lexer": "ipython3",
   "version": "3.9.6"
  }
 },
 "nbformat": 4,
 "nbformat_minor": 5
}
